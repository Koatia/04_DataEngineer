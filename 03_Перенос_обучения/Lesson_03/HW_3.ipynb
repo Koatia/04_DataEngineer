{
  "cells": [
    {
      "cell_type": "markdown",
      "id": "767c43a2",
      "metadata": {
        "id": "767c43a2"
      },
      "source": [
        "# Домашнее задание\n",
        "\n",
        "Реализуйте классификацию эмоциональной окрашенности текстов при помощи объекта pipeline.\n",
        "\n",
        "1. Найдите тип задач Sentiment Analysis на huggingface.co\n",
        "2. Найдите модель для русского языка (примеры: rubert-tiny2..., rubert-base...)"
      ]
    },
    {
      "cell_type": "code",
      "id": "41cc7bca",
      "metadata": {
        "colab": {
          "base_uri": "https://localhost:8080/"
        },
        "collapsed": true,
        "id": "41cc7bca",
        "outputId": "9d680ff1-f9c4-4b30-ac9c-08d0ea835e5e",
        "jupyter": {
          "is_executing": true
        }
      },
      "source": [
        "!pip install transformers"
      ],
      "outputs": [
        {
          "output_type": "stream",
          "name": "stdout",
          "text": [
            "Requirement already satisfied: transformers in /usr/local/lib/python3.10/dist-packages (4.44.2)\n",
            "Requirement already satisfied: filelock in /usr/local/lib/python3.10/dist-packages (from transformers) (3.16.1)\n",
            "Requirement already satisfied: huggingface-hub<1.0,>=0.23.2 in /usr/local/lib/python3.10/dist-packages (from transformers) (0.24.7)\n",
            "Requirement already satisfied: numpy>=1.17 in /usr/local/lib/python3.10/dist-packages (from transformers) (1.26.4)\n",
            "Requirement already satisfied: packaging>=20.0 in /usr/local/lib/python3.10/dist-packages (from transformers) (24.1)\n",
            "Requirement already satisfied: pyyaml>=5.1 in /usr/local/lib/python3.10/dist-packages (from transformers) (6.0.2)\n",
            "Requirement already satisfied: regex!=2019.12.17 in /usr/local/lib/python3.10/dist-packages (from transformers) (2024.9.11)\n",
            "Requirement already satisfied: requests in /usr/local/lib/python3.10/dist-packages (from transformers) (2.32.3)\n",
            "Requirement already satisfied: safetensors>=0.4.1 in /usr/local/lib/python3.10/dist-packages (from transformers) (0.4.5)\n",
            "Requirement already satisfied: tokenizers<0.20,>=0.19 in /usr/local/lib/python3.10/dist-packages (from transformers) (0.19.1)\n",
            "Requirement already satisfied: tqdm>=4.27 in /usr/local/lib/python3.10/dist-packages (from transformers) (4.66.6)\n",
            "Requirement already satisfied: fsspec>=2023.5.0 in /usr/local/lib/python3.10/dist-packages (from huggingface-hub<1.0,>=0.23.2->transformers) (2024.10.0)\n",
            "Requirement already satisfied: typing-extensions>=3.7.4.3 in /usr/local/lib/python3.10/dist-packages (from huggingface-hub<1.0,>=0.23.2->transformers) (4.12.2)\n",
            "Requirement already satisfied: charset-normalizer<4,>=2 in /usr/local/lib/python3.10/dist-packages (from requests->transformers) (3.4.0)\n",
            "Requirement already satisfied: idna<4,>=2.5 in /usr/local/lib/python3.10/dist-packages (from requests->transformers) (3.10)\n",
            "Requirement already satisfied: urllib3<3,>=1.21.1 in /usr/local/lib/python3.10/dist-packages (from requests->transformers) (2.2.3)\n",
            "Requirement already satisfied: certifi>=2017.4.17 in /usr/local/lib/python3.10/dist-packages (from requests->transformers) (2024.8.30)\n"
          ]
        }
      ],
      "execution_count": 1
    },
    {
      "cell_type": "code",
      "source": [
        "import transformers\n",
        "# Use a pipeline as a high-level helper\n",
        "from transformers import pipeline\n",
        "\n",
        "\n",
        "classifier = pipeline(\"text-classification\", model=\"blanchefort/rubert-base-cased-sentiment\", tokenizer=\"blanchefort/rubert-base-cased-sentiment\")"
      ],
      "metadata": {
        "id": "ScFQyOK8Rs8h"
      },
      "id": "ScFQyOK8Rs8h",
      "execution_count": 11,
      "outputs": []
    },
    {
      "cell_type": "markdown",
      "id": "6b52bb00",
      "metadata": {
        "id": "6b52bb00"
      },
      "source": [
        "Выполните следующую ячейку. Если вы правильно инициализировали `pipeline`, вы получите относительно верные предсказания."
      ]
    },
    {
      "cell_type": "code",
      "execution_count": 12,
      "id": "ee15c5ea",
      "metadata": {
        "colab": {
          "base_uri": "https://localhost:8080/"
        },
        "id": "ee15c5ea",
        "outputId": "1f3c7101-0b35-4f64-892c-56260baff470"
      },
      "outputs": [
        {
          "output_type": "execute_result",
          "data": {
            "text/plain": [
              "[{'label': 'POSITIVE', 'score': 0.9768824577331543},\n",
              " {'label': 'NEUTRAL', 'score': 0.6234394907951355},\n",
              " {'label': 'NEGATIVE', 'score': 0.7515069842338562},\n",
              " {'label': 'NEUTRAL', 'score': 0.8207123279571533},\n",
              " {'label': 'POSITIVE', 'score': 0.9771335124969482}]"
            ]
          },
          "metadata": {},
          "execution_count": 12
        }
      ],
      "source": [
        "classifier ( [\"Отличный товар\",\n",
        "            \"Мне не понравилось\",\n",
        "            \"Прекрасно выглядит, ничего не меняйте!\",\n",
        "            \"Ничего не понял\",\n",
        "            \"У меня не работала розетка, в остальном все отлично\"] )"
      ]
    },
    {
      "cell_type": "code",
      "execution_count": 15,
      "id": "c884826d",
      "metadata": {
        "id": "c884826d"
      },
      "outputs": [],
      "source": [
        "import transformers\n",
        "# Use a pipeline as a high-level helper\n",
        "from transformers import pipeline\n",
        "\n",
        "\n",
        "classifier = pipeline(\"text-classification\", model=\"LiYuan/amazon-review-sentiment-analysis\")"
      ]
    },
    {
      "cell_type": "code",
      "source": [
        "classifier ( [\"Отличный товар\",\n",
        "            \"Мне не понравилось\",\n",
        "            \"Прекрасно выглядит, ничего не меняйте!\",\n",
        "            \"Ничего не понял\",\n",
        "            \"У меня не работала розетка, в остальном все отлично\"] )"
      ],
      "metadata": {
        "colab": {
          "base_uri": "https://localhost:8080/"
        },
        "id": "qKN8gqOUX6DN",
        "outputId": "ff7082a8-2ec7-4ed6-f1b3-9527d9beeb39"
      },
      "id": "qKN8gqOUX6DN",
      "execution_count": 14,
      "outputs": [
        {
          "output_type": "execute_result",
          "data": {
            "text/plain": [
              "[{'label': '5 stars', 'score': 0.8513513803482056},\n",
              " {'label': '2 stars', 'score': 0.4171508252620697},\n",
              " {'label': '5 stars', 'score': 0.9158489108085632},\n",
              " {'label': '1 star', 'score': 0.5546966791152954},\n",
              " {'label': '5 stars', 'score': 0.42963987588882446}]"
            ]
          },
          "metadata": {},
          "execution_count": 14
        }
      ]
    }
  ],
  "metadata": {
    "kernelspec": {
      "display_name": "Python 3",
      "name": "python3"
    },
    "language_info": {
      "codemirror_mode": {
        "name": "ipython",
        "version": 3
      },
      "file_extension": ".py",
      "mimetype": "text/x-python",
      "name": "python",
      "nbconvert_exporter": "python",
      "pygments_lexer": "ipython3",
      "version": "3.11.5"
    },
    "colab": {
      "provenance": []
    }
  },
  "nbformat": 4,
  "nbformat_minor": 5
}
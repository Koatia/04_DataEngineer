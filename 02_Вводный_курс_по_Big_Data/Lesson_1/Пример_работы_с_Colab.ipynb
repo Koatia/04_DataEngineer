{
 "nbformat": 4,
 "nbformat_minor": 0,
 "metadata": {
  "colab": {
   "provenance": []
  },
  "kernelspec": {
   "name": "python3",
   "display_name": "Python 3 (ipykernel)",
   "language": "python"
  },
  "language_info": {
   "name": "python"
  }
 },
 "cells": [
  {
   "cell_type": "code",
   "metadata": {
    "colab": {
     "base_uri": "https://localhost:8080/",
     "height": 337
    },
    "id": "U0rI1-TuebIz",
    "outputId": "fc6eba2b-5f29-4638-8dc9-b0cdaed9ddca",
    "ExecuteTime": {
     "end_time": "2024-10-14T19:38:08.570955Z",
     "start_time": "2024-10-14T19:38:08.560152Z"
    }
   },
   "source": [
    "import pandas as pd\n",
    "\n",
    "df = pd.read_csv('content/IMDB.csv')\n",
    "df.head()"
   ],
   "outputs": [
    {
     "data": {
      "text/plain": [
       "                  Name       Year Episodes   Type  Rating  \\\n",
       "0      1. Breaking Bad  2008–2013   62 eps  TV-MA     9.5   \n",
       "1   2. Planet Earth II       2016    6 eps   TV-G     9.5   \n",
       "2      3. Planet Earth       2006   11 eps  TV-PG     9.4   \n",
       "3  4. Band of Brothers       2001   10 eps  TV-MA     9.4   \n",
       "4         5. Chernobyl       2019    5 eps  TV-MA     9.4   \n",
       "\n",
       "                                           Image-src  \\\n",
       "0  https://m.media-amazon.com/images/M/MV5BYmQ4YW...   \n",
       "1  https://m.media-amazon.com/images/M/MV5BMGZmYm...   \n",
       "2  https://m.media-amazon.com/images/M/MV5BMzMyYj...   \n",
       "3  https://m.media-amazon.com/images/M/MV5BMTI3OD...   \n",
       "4  https://m.media-amazon.com/images/M/MV5BNTdkN2...   \n",
       "\n",
       "                                         Description  \\\n",
       "0  A chemistry teacher diagnosed with inoperable ...   \n",
       "1  David Attenborough returns with a new wildlife...   \n",
       "2  A documentary series on the wildlife found on ...   \n",
       "3  The story of Easy Company of the U.S. Army 101...   \n",
       "4  In April 1986, an explosion at the Chernobyl n...   \n",
       "\n",
       "                                           Name-href  \n",
       "0  https://www.imdb.com/title/tt0903747/?ref_=cht...  \n",
       "1  https://www.imdb.com/title/tt5491994/?ref_=cht...  \n",
       "2  https://www.imdb.com/title/tt0795176/?ref_=cht...  \n",
       "3  https://www.imdb.com/title/tt0185906/?ref_=cht...  \n",
       "4  https://www.imdb.com/title/tt7366338/?ref_=cht...  "
      ],
      "text/html": [
       "<div>\n",
       "<style scoped>\n",
       "    .dataframe tbody tr th:only-of-type {\n",
       "        vertical-align: middle;\n",
       "    }\n",
       "\n",
       "    .dataframe tbody tr th {\n",
       "        vertical-align: top;\n",
       "    }\n",
       "\n",
       "    .dataframe thead th {\n",
       "        text-align: right;\n",
       "    }\n",
       "</style>\n",
       "<table border=\"1\" class=\"dataframe\">\n",
       "  <thead>\n",
       "    <tr style=\"text-align: right;\">\n",
       "      <th></th>\n",
       "      <th>Name</th>\n",
       "      <th>Year</th>\n",
       "      <th>Episodes</th>\n",
       "      <th>Type</th>\n",
       "      <th>Rating</th>\n",
       "      <th>Image-src</th>\n",
       "      <th>Description</th>\n",
       "      <th>Name-href</th>\n",
       "    </tr>\n",
       "  </thead>\n",
       "  <tbody>\n",
       "    <tr>\n",
       "      <th>0</th>\n",
       "      <td>1. Breaking Bad</td>\n",
       "      <td>2008–2013</td>\n",
       "      <td>62 eps</td>\n",
       "      <td>TV-MA</td>\n",
       "      <td>9.5</td>\n",
       "      <td>https://m.media-amazon.com/images/M/MV5BYmQ4YW...</td>\n",
       "      <td>A chemistry teacher diagnosed with inoperable ...</td>\n",
       "      <td>https://www.imdb.com/title/tt0903747/?ref_=cht...</td>\n",
       "    </tr>\n",
       "    <tr>\n",
       "      <th>1</th>\n",
       "      <td>2. Planet Earth II</td>\n",
       "      <td>2016</td>\n",
       "      <td>6 eps</td>\n",
       "      <td>TV-G</td>\n",
       "      <td>9.5</td>\n",
       "      <td>https://m.media-amazon.com/images/M/MV5BMGZmYm...</td>\n",
       "      <td>David Attenborough returns with a new wildlife...</td>\n",
       "      <td>https://www.imdb.com/title/tt5491994/?ref_=cht...</td>\n",
       "    </tr>\n",
       "    <tr>\n",
       "      <th>2</th>\n",
       "      <td>3. Planet Earth</td>\n",
       "      <td>2006</td>\n",
       "      <td>11 eps</td>\n",
       "      <td>TV-PG</td>\n",
       "      <td>9.4</td>\n",
       "      <td>https://m.media-amazon.com/images/M/MV5BMzMyYj...</td>\n",
       "      <td>A documentary series on the wildlife found on ...</td>\n",
       "      <td>https://www.imdb.com/title/tt0795176/?ref_=cht...</td>\n",
       "    </tr>\n",
       "    <tr>\n",
       "      <th>3</th>\n",
       "      <td>4. Band of Brothers</td>\n",
       "      <td>2001</td>\n",
       "      <td>10 eps</td>\n",
       "      <td>TV-MA</td>\n",
       "      <td>9.4</td>\n",
       "      <td>https://m.media-amazon.com/images/M/MV5BMTI3OD...</td>\n",
       "      <td>The story of Easy Company of the U.S. Army 101...</td>\n",
       "      <td>https://www.imdb.com/title/tt0185906/?ref_=cht...</td>\n",
       "    </tr>\n",
       "    <tr>\n",
       "      <th>4</th>\n",
       "      <td>5. Chernobyl</td>\n",
       "      <td>2019</td>\n",
       "      <td>5 eps</td>\n",
       "      <td>TV-MA</td>\n",
       "      <td>9.4</td>\n",
       "      <td>https://m.media-amazon.com/images/M/MV5BNTdkN2...</td>\n",
       "      <td>In April 1986, an explosion at the Chernobyl n...</td>\n",
       "      <td>https://www.imdb.com/title/tt7366338/?ref_=cht...</td>\n",
       "    </tr>\n",
       "  </tbody>\n",
       "</table>\n",
       "</div>"
      ]
     },
     "execution_count": 4,
     "metadata": {},
     "output_type": "execute_result"
    }
   ],
   "execution_count": 4
  },
  {
   "cell_type": "code",
   "source": [
    "new_df = df[['Name', 'Year']].drop_duplicates()\n",
    "new_df.to_csv('/content/IMDB_only_name_and_year.csv')"
   ],
   "metadata": {
    "id": "6DJhqDW0e1t9"
   },
   "execution_count": 2,
   "outputs": []
  },
  {
   "cell_type": "code",
   "source": [],
   "metadata": {
    "id": "1secEQwBfGbG"
   },
   "execution_count": null,
   "outputs": []
  }
 ]
}

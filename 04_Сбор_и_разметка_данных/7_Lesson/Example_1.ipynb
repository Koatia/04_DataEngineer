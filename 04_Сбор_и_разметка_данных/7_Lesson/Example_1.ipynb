{
 "cells": [
  {
   "cell_type": "markdown",
   "id": "e5d1955532185844",
   "metadata": {
    "collapsed": false,
    "jupyter": {
     "outputs_hidden": false
    }
   },
   "source": [
    "# Сбор и разметка данных\n"
   ]
  },
  {
   "cell_type": "code",
   "id": "cef5c2fd82565283",
   "metadata": {
    "collapsed": false,
    "jupyter": {
     "outputs_hidden": false
    }
   },
   "source": [
    "# Установка пакетов\n",
    "# !pip install selenium\n",
    "# !pip install pandas\n",
    "# !pip install matplotlib\n",
    "# !pip install pymongo"
   ],
   "outputs": [],
   "execution_count": null
  },
  {
   "cell_type": "code",
   "id": "9cdccca6d4066646",
   "metadata": {
    "collapsed": false,
    "jupyter": {
     "outputs_hidden": false
    }
   },
   "source": [
    "import re\n",
    "import time\n",
    "\n",
    "import matplotlib.pyplot as plt\n",
    "import pandas as pd\n",
    "from selenium import webdriver\n",
    "from selenium.webdriver import ActionChains\n",
    "from selenium.webdriver.chrome.options import Options\n",
    "from selenium.webdriver.common.by import By\n",
    "from selenium.webdriver.common.keys import Keys\n",
    "from selenium.webdriver.support import expected_conditions as EC\n",
    "from selenium.webdriver.support.ui import WebDriverWait\n",
    "\n",
    "# Настройка формата вывода чисел float\n",
    "pd.set_option('display.float_format', '{:.2f}'.format)"
   ],
   "outputs": [],
   "execution_count": null
  },
  {
   "cell_type": "code",
   "id": "2a5684727e6199d2",
   "metadata": {
    "collapsed": false,
    "jupyter": {
     "outputs_hidden": false
    }
   },
   "source": [
    "options = Options()\n",
    "options.add_argument(\"--disable-notifications\")\n",
    "# Запуск браузера с развернутым экраном\n",
    "options.add_argument('start-maximized')\n",
    "# Будем использовать браузер Chrom\n",
    "driver = webdriver.Chrome(options=options)\n",
    "# Открываем ссылку\n",
    "driver.get('https://www.wildberries.ru/')\n",
    "time.sleep(4)\n"
   ],
   "outputs": [],
   "execution_count": null
  },
  {
   "cell_type": "code",
   "id": "90dedca122f1057f",
   "metadata": {
    "collapsed": false,
    "jupyter": {
     "outputs_hidden": false
    }
   },
   "source": [
    "wait = WebDriverWait(driver, 10)\n",
    "# Ищем строку поиска\n",
    "# input = driver.find_element(By.XPATH, \"//input[@id='searchInput']\")\n",
    "input = wait.until(EC.presence_of_element_located((By.ID, \"searchInput\")))\n",
    "# Вводим фразу поиска и нажимаем Enter\n",
    "input.send_keys('калоши утепленные мужские 45')\n",
    "input.send_keys(Keys.ENTER)"
   ],
   "outputs": [],
   "execution_count": null
  },
  {
   "cell_type": "markdown",
   "id": "7dd83b9570ef744d",
   "metadata": {
    "collapsed": false,
    "jupyter": {
     "outputs_hidden": false
    }
   },
   "source": "### Прокручиваем страницу и записываем все ссылки на товары, если есть кнопка \"далее\" - нажимаем её, если нет - выходим из цикла"
  },
  {
   "cell_type": "code",
   "id": "b5db71c4bf1c45af",
   "metadata": {
    "collapsed": false,
    "jupyter": {
     "outputs_hidden": false
    }
   },
   "source": [
    "# Список ссылок на страницы товара\n",
    "url_list = []\n",
    "\n",
    "while True:\n",
    "    # Кол-во товаров на странице\n",
    "    count = None\n",
    "    while True:\n",
    "        time.sleep(4)\n",
    "        # Ожидание появление объекта ((html код) карточек товара)\n",
    "        cards = wait.until(EC.presence_of_all_elements_located((By.XPATH, '//article[@id]')))\n",
    "        # Выходим из цикла, если при прокрутке страницы, количество товаров не меняется \n",
    "        if len(cards) == count:\n",
    "            break\n",
    "            # Вычисление кол-ва карточек товара на странице\n",
    "        count = len(cards)\n",
    "\n",
    "        # Прокручиваем страницу выполняя JAVA Script\n",
    "        driver.execute_script('window.scrollBy(0, 1800)')\n",
    "        time.sleep(2)\n",
    "\n",
    "    # Сбор ссылок на товары с полностью загруженной страницы\n",
    "    for card in cards:\n",
    "        # Записываем ссылку каждого товара\n",
    "        url = card.find_element(By.XPATH, './div/a').get_attribute('href')\n",
    "        url_list.append(url)\n",
    "\n",
    "    # Проверка кнопки \"Следующая страница\"\n",
    "    try:\n",
    "        next = driver.find_element(By.XPATH, \"//a[@class='pagination-next   pagination__next j-next-page']\")\n",
    "        actions = ActionChains(driver)\n",
    "        actions.move_to_element(next).click()\n",
    "        actions.perform()\n",
    "    except Exception:\n",
    "        break"
   ],
   "outputs": [],
   "execution_count": null
  },
  {
   "cell_type": "code",
   "id": "6a44c926f7adea58",
   "metadata": {
    "collapsed": false,
    "jupyter": {
     "outputs_hidden": false
    }
   },
   "source": [
    "print(f'Всего получено: {len(url_list)} ссылок на телевизоры 65')\n",
    "print(url_list[:15])"
   ],
   "outputs": [],
   "execution_count": null
  },
  {
   "cell_type": "markdown",
   "id": "d630620ad9f57c25",
   "metadata": {
    "collapsed": false,
    "jupyter": {
     "outputs_hidden": false
    }
   },
   "source": "### Переход на страницу найденного товара и парсинг"
  },
  {
   "cell_type": "code",
   "id": "467ce333e09bf108",
   "metadata": {
    "collapsed": false,
    "jupyter": {
     "outputs_hidden": false
    }
   },
   "source": [
    "driver2 = webdriver.Chrome(options=options)\n",
    "wait2 = WebDriverWait(driver2, 10)\n",
    "acb_list = []\n",
    "\n",
    "# Просмотр ссылок на телевизоры\n",
    "for url in url_list:\n",
    "    items_dict = {}\n",
    "\n",
    "    driver2.get(url)\n",
    "    # Заносим название\n",
    "    items_dict['name'] = wait2.until(EC.presence_of_element_located((By.XPATH, \"//h1\"))).text\n",
    "    # Заносим цену\n",
    "    price = wait2.until(EC.presence_of_all_elements_located((By.CLASS_NAME, 'price-block__wallet-price')))\n",
    "    try:\n",
    "        items_dict['price'] = float(re.sub(r'[^\\d.]+', '', price[1].text))\n",
    "    except Exception:\n",
    "        items_dict['price'] = None\n",
    "    # Заносим бренд\n",
    "    items_dict['brend'] = wait2.until(EC.presence_of_element_located((By.CLASS_NAME, \"product-page__header-brand\"))).text\n",
    "    # Заносим url ссылку\n",
    "    items_dict['url'] = url\n",
    "\n",
    "    # Обрабатываем табличные данные\n",
    "    table_label = wait2.until(EC.presence_of_all_elements_located((By.XPATH, '//th')))\n",
    "    table_param = wait2.until(EC.presence_of_all_elements_located((By.XPATH, '//td')))\n",
    "    # Заносим данные в зависимости от названия   \n",
    "    for i in range(len(table_label)):\n",
    "        if table_label[i].text == 'Страна производства':\n",
    "            items_dict['country'] = table_param[i].text\n",
    "        elif table_label[i].text == 'Емкость аккумулятора (Ач)':\n",
    "            try:\n",
    "                val = table_param[i].text.strip()\n",
    "                val, *_ = val.split()\n",
    "                items_dict['capacity'] = float(re.sub(r'[^\\d.]+', '', val))\n",
    "            except Exception:\n",
    "                items_dict['capacity'] = None\n",
    "        elif table_label[i].text == 'Напряжение':\n",
    "            try:\n",
    "                val = table_param[i].text.strip()\n",
    "                val, *_ = val.split()\n",
    "                items_dict['voltage'] = float(re.sub(r'[^\\d.]+', '', val))\n",
    "            except Exception:\n",
    "                items_dict['voltage'] = None\n",
    "\n",
    "    # Добавляем словарь в список аккумуляторов\n",
    "    acb_list.append(items_dict)"
   ],
   "outputs": [],
   "execution_count": null
  },
  {
   "cell_type": "code",
   "id": "99bf89db7b707db9",
   "metadata": {
    "collapsed": false,
    "jupyter": {
     "outputs_hidden": false
    }
   },
   "source": [
    "print(f'Обработано {len(acb_list)} страниц')"
   ],
   "outputs": [],
   "execution_count": null
  },
  {
   "cell_type": "markdown",
   "id": "9bbb530f-e37a-4fef-80e6-a7b4b8474a80",
   "metadata": {},
   "source": [
    "### Просмотр полученных данных"
   ]
  },
  {
   "cell_type": "code",
   "id": "bdea445a0244dd8e",
   "metadata": {
    "collapsed": false,
    "jupyter": {
     "outputs_hidden": false
    }
   },
   "source": [
    "df = pd.DataFrame(acb_list)\n",
    "df.head()"
   ],
   "outputs": [],
   "execution_count": null
  },
  {
   "cell_type": "code",
   "id": "66a8be8be4590e0b",
   "metadata": {
    "collapsed": false,
    "jupyter": {
     "outputs_hidden": false
    }
   },
   "source": [
    "df.info()"
   ],
   "outputs": [],
   "execution_count": null
  },
  {
   "cell_type": "markdown",
   "id": "0c992e20-292a-41dc-b34d-9189d44787da",
   "metadata": {},
   "source": [
    "### Производители аккумуляторов для ИБП представленые на Wildberries"
   ]
  },
  {
   "cell_type": "code",
   "id": "6198963f-10f4-4610-8ab8-043733bcb536",
   "metadata": {},
   "source": [
    "data = df['country'].value_counts()\n",
    "names = data.index\n",
    "values = data.values\n",
    "data"
   ],
   "outputs": [],
   "execution_count": null
  },
  {
   "cell_type": "code",
   "id": "3868dae0-fbd4-4ad8-9fd6-de49709c8a40",
   "metadata": {},
   "source": [
    "plt.pie(values, autopct='%.1f%%', labels=names)\n",
    "plt.show()"
   ],
   "outputs": [],
   "execution_count": null
  },
  {
   "cell_type": "markdown",
   "id": "2365cf19-8905-4714-9cfb-119835bf3422",
   "metadata": {},
   "source": [
    "### Минимальная, максимальная и средняя цена аккумулятора с разделением на емкость"
   ]
  },
  {
   "cell_type": "code",
   "id": "f93d02632b1a26b4",
   "metadata": {
    "collapsed": false,
    "jupyter": {
     "outputs_hidden": false
    }
   },
   "source": [
    "df.groupby('capacity').agg({'price': ['min', 'mean', 'max']})"
   ],
   "outputs": [],
   "execution_count": null
  },
  {
   "cell_type": "markdown",
   "id": "cde8b4ac-44b5-424d-9a55-17501a5d2218",
   "metadata": {},
   "source": [
    "### 10 самых распространенных компаний"
   ]
  },
  {
   "cell_type": "code",
   "id": "1a829758-8ded-439e-bd5b-2bf87e120df4",
   "metadata": {},
   "source": [
    "data = df['brend'].value_counts()\n",
    "names = data.index\n",
    "values = data.values\n",
    "data.head(10)"
   ],
   "outputs": [],
   "execution_count": null
  },
  {
   "cell_type": "markdown",
   "id": "cb35c7d0-1a94-45a5-a5c6-ee8fb0acab46",
   "metadata": {},
   "source": [
    "### Записываем полученные данные в БД MongoDB"
   ]
  },
  {
   "cell_type": "code",
   "id": "c3ed3d4d-fd87-419f-ace2-11e9d3eedebf",
   "metadata": {},
   "source": [
    "from pymongo import MongoClient"
   ],
   "outputs": [],
   "execution_count": null
  },
  {
   "cell_type": "code",
   "id": "7fa3b599-48f3-428b-a8f0-9ed533fa6de2",
   "metadata": {},
   "source": [
    "# Подключение к серверу MongoDB\n",
    "client = MongoClient('mongodb://localhost:27017/')\n",
    "# Выбор базы данных и коллекции\n",
    "db = client['acb']\n",
    "collection = db['acb_12v']"
   ],
   "outputs": [],
   "execution_count": null
  },
  {
   "cell_type": "code",
   "id": "35c3649b-1cf1-485d-be1a-dd4e747f7360",
   "metadata": {},
   "source": [
    "# Отправление данных в БД MongoDB\n",
    "collection.insert_many(acb_list)"
   ],
   "outputs": [],
   "execution_count": null
  },
  {
   "cell_type": "markdown",
   "id": "45868417-03c2-4007-8d6c-cbbc21c0b213",
   "metadata": {},
   "source": [
    "## Вывод:\n",
    "Информация с сайта `https://www.wildberries.ru/` об аккумуляторах 12V для ИБП. Скрипт ввёл информацию для поиска -> скрипт прокручивал страницу, чтобы загрузились все товары -> сохраняет все ссылки на аккумуляторы в список и если присутствовала кнопка \"далее\", скрипт нажимал её -> в другом окне браузера открывалась каждая ссылка и извлекались следующие данные:  \n",
    "- марка;\n",
    "- напряжение аккумулятора;\n",
    "- ёмкость аккумулятора;\n",
    "- бренд;\n",
    "- страна производитель;\n",
    "- цена;\n",
    "- url.\n",
    "  \n",
    "Отладка программы производилась частично в PyCharm Profecional (демо версия), частично в Jupiter Notebook.\n",
    "\n",
    "Для автоматического сбора данных, в Jupiter Notebook -> нажмите выполнить все (`Run All Cells`)"
   ]
  },
  {
   "cell_type": "code",
   "id": "d702ad80-9113-4054-ae82-21a7553d0c7a",
   "metadata": {},
   "source": [],
   "outputs": [],
   "execution_count": null
  }
 ],
 "metadata": {
  "kernelspec": {
   "display_name": "Python 3 (ipykernel)",
   "language": "python",
   "name": "python3"
  },
  "language_info": {
   "codemirror_mode": {
    "name": "ipython",
    "version": 3
   },
   "file_extension": ".py",
   "mimetype": "text/x-python",
   "name": "python",
   "nbconvert_exporter": "python",
   "pygments_lexer": "ipython3",
   "version": "3.11.8"
  }
 },
 "nbformat": 4,
 "nbformat_minor": 5
}
